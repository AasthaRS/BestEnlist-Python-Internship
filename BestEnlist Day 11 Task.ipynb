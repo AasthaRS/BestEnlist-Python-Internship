{
 "cells": [
  {
   "cell_type": "markdown",
   "metadata": {},
   "source": [
    "# Exercise"
   ]
  },
  {
   "cell_type": "markdown",
   "metadata": {},
   "source": [
    "#### 1) Write a program using zip() function and list() function, create a merged list of tuples from the two lists given.\n"
   ]
  },
  {
   "cell_type": "code",
   "execution_count": 2,
   "metadata": {
    "scrolled": true
   },
   "outputs": [
    {
     "name": "stdout",
     "output_type": "stream",
     "text": [
      "2 4 6 8\n",
      "3 5 7 9\n",
      "[(2, 3), (4, 5), (6, 7), (8, 9)]\n"
     ]
    }
   ],
   "source": [
    "list1 = map(lambda x: int(x), input().split())\n",
    "list2 = map(lambda x: int(x), input().split())\n",
    "\n",
    "output = list(zip(list1, list2))\n",
    "print(output)"
   ]
  },
  {
   "cell_type": "markdown",
   "metadata": {},
   "source": [
    "#### 2) First create a range from 1 to 8. Then using zip, merge the given list and the range together to create a new list of tuples."
   ]
  },
  {
   "cell_type": "code",
   "execution_count": 10,
   "metadata": {},
   "outputs": [
    {
     "name": "stdout",
     "output_type": "stream",
     "text": [
      "[('Yellow', 1), ('Green', 2), ('Blue', 3), ('Orange', 4), ('Red', 5), ('Pink', 6), ('Purple', 7), ('Indigo', 8)]\n"
     ]
    }
   ],
   "source": [
    "list1 = ['Yellow', 'Green', 'Blue', 'Orange', 'Red', 'Pink', 'Purple', 'Indigo']\n",
    "range1 = list(range(1,9))\n",
    "fin_list = list(zip(list1, range1))\n",
    "print(fin_list)"
   ]
  },
  {
   "cell_type": "markdown",
   "metadata": {},
   "source": [
    "#### 3) Using sorted() function, sort the list in ascending order."
   ]
  },
  {
   "cell_type": "code",
   "execution_count": 11,
   "metadata": {},
   "outputs": [
    {
     "data": {
      "text/plain": [
       "[1, 2, 4, 6, 8]"
      ]
     },
     "execution_count": 11,
     "metadata": {},
     "output_type": "execute_result"
    }
   ],
   "source": [
    "lst = [2, 8, 4, 1, 6]\n",
    "sorted(lst)"
   ]
  },
  {
   "cell_type": "markdown",
   "metadata": {},
   "source": [
    "#### 4) Write a program using filter function, filter the even numbers so that only odd numbers are passed to the new list.\n"
   ]
  },
  {
   "cell_type": "code",
   "execution_count": 14,
   "metadata": {},
   "outputs": [
    {
     "name": "stdout",
     "output_type": "stream",
     "text": [
      "Type of filter object:  <class 'filter'>\n",
      "New Filtered list is as follows:  [1, 5, 7, 11, 23, 65]\n"
     ]
    }
   ],
   "source": [
    "numbers = [1, 2, 4, 5, 7, 8, 10, 11, 23, 44, 65]\n",
    "\n",
    "def filterEvenNum(in_num):\n",
    "\n",
    "    if(in_num % 2) != 0:\n",
    "        return True\n",
    "    else:\n",
    "        return False\n",
    "\n",
    "out_filter = filter(filterEvenNum, numbers)\n",
    "\n",
    "print(\"Type of filter object: \", type(out_filter))\n",
    "print(\"New Filtered list is as follows: \", list(out_filter))"
   ]
  },
  {
   "cell_type": "code",
   "execution_count": null,
   "metadata": {},
   "outputs": [],
   "source": []
  }
 ],
 "metadata": {
  "kernelspec": {
   "display_name": "Python 3",
   "language": "python",
   "name": "python3"
  },
  "language_info": {
   "codemirror_mode": {
    "name": "ipython",
    "version": 3
   },
   "file_extension": ".py",
   "mimetype": "text/x-python",
   "name": "python",
   "nbconvert_exporter": "python",
   "pygments_lexer": "ipython3",
   "version": "3.8.3"
  }
 },
 "nbformat": 4,
 "nbformat_minor": 4
}
