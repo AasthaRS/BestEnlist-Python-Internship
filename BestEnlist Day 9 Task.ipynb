{
 "cells": [
  {
   "cell_type": "markdown",
   "metadata": {},
   "source": [
    "# Exercise"
   ]
  },
  {
   "cell_type": "markdown",
   "metadata": {},
   "source": [
    "#### 1) Create a lambda function that multiplies argument x with argument y"
   ]
  },
  {
   "cell_type": "code",
   "execution_count": 3,
   "metadata": {},
   "outputs": [
    {
     "name": "stdout",
     "output_type": "stream",
     "text": [
      "Enter first number: 4\n",
      "Enter second number: 6\n",
      "Product is:  24\n"
     ]
    }
   ],
   "source": [
    "prod = lambda x,y: x*y\n",
    "num1 = int(input(\"Enter first number: \"))\n",
    "num2 = int(input(\"Enter second number: \"))\n",
    "print(\"Product is: \",prod(num1,num2))"
   ]
  },
  {
   "cell_type": "markdown",
   "metadata": {},
   "source": [
    "#### 2) Write a Python program to create Fibonacci series to n using Lambda"
   ]
  },
  {
   "cell_type": "code",
   "execution_count": 6,
   "metadata": {},
   "outputs": [
    {
     "name": "stdout",
     "output_type": "stream",
     "text": [
      "Enter the number of terms you want to print: 9\n",
      "[0, 1, 1, 2, 3, 5, 8, 13, 21]\n"
     ]
    }
   ],
   "source": [
    "from functools import reduce\n",
    "  \n",
    "fib = lambda n: reduce(lambda x, _: x+[x[-1]+x[-2]], \n",
    "                                 range(n-2), [0, 1]) \n",
    "n = int(input(\"Enter the number of terms you want to print: \"))\n",
    "print(fib(n))"
   ]
  },
  {
   "cell_type": "markdown",
   "metadata": {},
   "source": [
    "#### 3) Write a Python program that multiply each number of given list with a given number "
   ]
  },
  {
   "cell_type": "code",
   "execution_count": 7,
   "metadata": {},
   "outputs": [
    {
     "name": "stdout",
     "output_type": "stream",
     "text": [
      "Original list:  [2, 4, 6, 9, 11]\n",
      "Given number:  7\n",
      "Result:\n",
      "14 28 42 63 77\n"
     ]
    }
   ],
   "source": [
    "nums = [2, 4, 6, 9 , 11]\n",
    "n = 7\n",
    "print(\"Original list: \", nums)\n",
    "print(\"Given number: \", n)\n",
    "filtered_numbers=list(map(lambda number:number*n,nums))\n",
    "print(\"Result:\")\n",
    "print(' '.join(map(str,filtered_numbers)))"
   ]
  },
  {
   "cell_type": "markdown",
   "metadata": {},
   "source": [
    "#### 4) Write a Python program to find numbers divisible by 9 from a list of numbers "
   ]
  },
  {
   "cell_type": "code",
   "execution_count": 10,
   "metadata": {},
   "outputs": [
    {
     "name": "stdout",
     "output_type": "stream",
     "text": [
      "Orginal list:\n",
      "[19, 65, 54, 39, 152, 639, 126, 44, 90, 198]\n",
      "\n",
      "Numbers of the above list divisible by nine:\n",
      "[54, 639, 126, 90, 198]\n"
     ]
    }
   ],
   "source": [
    "nums = [19, 65, 54, 39, 152, 639, 126, 44, 90, 198]\n",
    "print(\"Orginal list:\")\n",
    "print(nums) \n",
    "result = list(filter(lambda x: (x % 9 == 0), nums)) \n",
    "print(\"\\nNumbers of the above list divisible by nine:\")\n",
    "print(result)"
   ]
  },
  {
   "cell_type": "markdown",
   "metadata": {},
   "source": [
    "#### 5) Write a Python program to count the even numbers in a given list of integers"
   ]
  },
  {
   "cell_type": "code",
   "execution_count": 11,
   "metadata": {},
   "outputs": [
    {
     "name": "stdout",
     "output_type": "stream",
     "text": [
      "Original arrays:\n",
      "[1, 2, 3, 5, 7, 8, 9, 10]\n",
      "\n",
      "Number of even numbers in the above array:  3\n"
     ]
    }
   ],
   "source": [
    "array_nums = [1, 2, 3, 5, 7, 8, 9, 10]\n",
    "print(\"Original arrays:\")\n",
    "print(array_nums)\n",
    "even_ctr = len(list(filter(lambda x: (x%2 == 0) , array_nums)))\n",
    "print(\"\\nNumber of even numbers in the above array: \", even_ctr)"
   ]
  },
  {
   "cell_type": "code",
   "execution_count": null,
   "metadata": {},
   "outputs": [],
   "source": []
  }
 ],
 "metadata": {
  "kernelspec": {
   "display_name": "Python 3",
   "language": "python",
   "name": "python3"
  },
  "language_info": {
   "codemirror_mode": {
    "name": "ipython",
    "version": 3
   },
   "file_extension": ".py",
   "mimetype": "text/x-python",
   "name": "python",
   "nbconvert_exporter": "python",
   "pygments_lexer": "ipython3",
   "version": "3.8.3"
  }
 },
 "nbformat": 4,
 "nbformat_minor": 4
}
