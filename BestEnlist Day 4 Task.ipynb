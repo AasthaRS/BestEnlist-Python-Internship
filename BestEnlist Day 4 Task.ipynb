{
 "cells": [
  {
   "cell_type": "markdown",
   "metadata": {},
   "source": [
    "# Exercise"
   ]
  },
  {
   "cell_type": "markdown",
   "metadata": {},
   "source": [
    "#### 1) Write a program to create a list of n integer values and do the following\n",
    "#### * Add an item in to the list (using function)\n",
    "#### * Delete (using function)\n",
    "#### * Store the largest number from the list to a variable\n",
    "#### * Store the Smallest number from the list to a variable\n"
   ]
  },
  {
   "cell_type": "code",
   "execution_count": 5,
   "metadata": {},
   "outputs": [
    {
     "name": "stdout",
     "output_type": "stream",
     "text": [
      "Initial elements of list:  ['red', 'yellow', 'green']\n",
      "\n",
      "1. Adding item using append()\n",
      "\tList becomes:  ['red', 'yellow', 'green', 'white']\n",
      "\n",
      "2. Adding items using extend()\n",
      "\tList becomes:  ['red', 'yellow', 'green', 'white', 'grey', 'pink']\n",
      "\n",
      "3. Adding item using insert() at second place\n",
      "\tList becomes:  ['red', 'black', 'yellow', 'green', 'white', 'grey', 'pink']\n"
     ]
    }
   ],
   "source": [
    "# Add an item in to the list (using function)\n",
    "def add_item(colors):\n",
    "    print(\"\\n1. Adding item using append()\")\n",
    "    colors.append(\"white\")\n",
    "    print(\"\\tList becomes: \",colors)\n",
    "    print(\"\\n2. Adding items using extend()\")\n",
    "    colors.extend(['grey', 'pink'])\n",
    "    print(\"\\tList becomes: \",colors)\n",
    "    print(\"\\n3. Adding item using insert() at second place\")\n",
    "    colors.insert(1,\"black\")\n",
    "    print(\"\\tList becomes: \",colors)\n",
    "\n",
    "    \n",
    "colors = ['red', 'yellow', 'green']\n",
    "print(\"Initial elements of list: \",colors)\n",
    "add_item(colors)\n"
   ]
  },
  {
   "cell_type": "code",
   "execution_count": 8,
   "metadata": {},
   "outputs": [
    {
     "name": "stdout",
     "output_type": "stream",
     "text": [
      "Initial elements of list:  ['red', 'black', 'yellow', 'green', 'white', 'grey', 'pink', 'purple', 'cyan', 'orange']\n",
      "\n",
      "1. Deleting third item using del()\n",
      "\tList becomes:  ['red', 'black', 'green', 'white', 'grey', 'pink', 'purple', 'cyan', 'orange']\n",
      "\n",
      "2. Deleting second and third item using del()\n",
      "\tList becomes:  ['red', 'white', 'grey', 'pink', 'purple', 'cyan', 'orange']\n",
      "\n",
      "3. Deleting 'cyan' using remove()\n",
      "\tList becomes:  ['red', 'white', 'grey', 'pink', 'purple', 'orange']\n",
      "\n",
      "4. Deleting last item using pop()\n",
      "\tList becomes:  ['red', 'white', 'pink', 'purple', 'orange']\n"
     ]
    }
   ],
   "source": [
    "# Delete (using function)\n",
    "def del_item(colors):\n",
    "    print(\"\\n1. Deleting third item using del()\")\n",
    "    del colors[2]\n",
    "    print(\"\\tList becomes: \",colors)\n",
    "    print(\"\\n2. Deleting second and third item using del()\")\n",
    "    del colors[1:3]\n",
    "    print(\"\\tList becomes: \",colors)\n",
    "    print(\"\\n3. Deleting 'cyan' using remove()\")\n",
    "    colors.remove('cyan')\n",
    "    print(\"\\tList becomes: \",colors)\n",
    "    print(\"\\n4. Deleting last item using pop()\")\n",
    "    colors.pop(2)\n",
    "    print(\"\\tList becomes: \",colors)\n",
    "\n",
    "colors =  ['red', 'black', 'yellow', 'green', 'white', 'grey', 'pink', 'purple', 'cyan', 'orange']\n",
    "print(\"Initial elements of list: \",colors)\n",
    "del_item(colors)"
   ]
  },
  {
   "cell_type": "code",
   "execution_count": 10,
   "metadata": {},
   "outputs": [
    {
     "name": "stdout",
     "output_type": "stream",
     "text": [
      "List is:  [0, 1, 2, 3, 4, 5, 6, 7]\n",
      "Maximum element is:  7\n",
      "Minimum element is:  0\n"
     ]
    }
   ],
   "source": [
    "# Store the largest number from the list to a variable\n",
    "l = list(range(8))\n",
    "print(\"List is: \", l)\n",
    "maximum = max(l)\n",
    "print(\"Maximum element is: \", maximum)\n",
    "# Store the Smallest number from the list to a variable\n",
    "minimum = min(l)\n",
    "print(\"Minimum element is: \", minimum)"
   ]
  },
  {
   "cell_type": "markdown",
   "metadata": {},
   "source": [
    "####  2) Create a tuple and print the reverse of the created tuple\n"
   ]
  },
  {
   "cell_type": "code",
   "execution_count": 14,
   "metadata": {},
   "outputs": [
    {
     "name": "stdout",
     "output_type": "stream",
     "text": [
      "('a', 'b', 'c', 'd', 'e', 'f')\n",
      "Its reverse is:\n",
      "('f', 'e', 'd', 'c', 'b', 'a')\n"
     ]
    }
   ],
   "source": [
    "tup = ('a', 'b', 'c', 'd', 'e', 'f')\n",
    "print(tup)\n",
    "print(\"Its reverse is:\")\n",
    "print(tup[::-1])"
   ]
  },
  {
   "cell_type": "markdown",
   "metadata": {},
   "source": [
    "#### 3) Create a tuple and convert tuple into list"
   ]
  },
  {
   "cell_type": "code",
   "execution_count": 17,
   "metadata": {},
   "outputs": [
    {
     "name": "stdout",
     "output_type": "stream",
     "text": [
      "('a', 'b', 'c', 'd', 'e', 'f')  is of type  <class 'tuple'>\n",
      "['a', 'b', 'c', 'd', 'e', 'f']  is of type  <class 'list'>\n"
     ]
    }
   ],
   "source": [
    "tup = ('a', 'b', 'c', 'd', 'e', 'f')\n",
    "print(tup,\" is of type \",type(tup))\n",
    "list_conv = list(tup)\n",
    "print(list_conv,\" is of type \",type(list_conv))"
   ]
  }
 ],
 "metadata": {
  "kernelspec": {
   "display_name": "Python 3",
   "language": "python",
   "name": "python3"
  },
  "language_info": {
   "codemirror_mode": {
    "name": "ipython",
    "version": 3
   },
   "file_extension": ".py",
   "mimetype": "text/x-python",
   "name": "python",
   "nbconvert_exporter": "python",
   "pygments_lexer": "ipython3",
   "version": "3.8.3"
  }
 },
 "nbformat": 4,
 "nbformat_minor": 4
}
