{
 "cells": [
  {
   "cell_type": "markdown",
   "metadata": {},
   "source": [
    "# Exercise"
   ]
  },
  {
   "cell_type": "markdown",
   "metadata": {},
   "source": [
    "#### 1)Create three variables (a,b,c) to same value of any integer & do the following\n",
    "####    a) Divide a by 10\n",
    "####    b) Multiply b by 50\n",
    "####    c) Add c value by 60"
   ]
  },
  {
   "cell_type": "code",
   "execution_count": 2,
   "metadata": {},
   "outputs": [
    {
     "name": "stdout",
     "output_type": "stream",
     "text": [
      "a= 90\n",
      "b= 90\n",
      "c= 90\n",
      "Value of a divided by 10 is  9.0\n",
      "Value of b multiplied by 50 is  4500\n",
      "Value of c added by 60 is  150\n"
     ]
    }
   ],
   "source": [
    "a = b = c = 90\n",
    "print(\"a=\",a)\n",
    "print(\"b=\",b)\n",
    "print(\"c=\",c)\n",
    "print(\"Value of a divided by 10 is \",(a/10))\n",
    "print(\"Value of b multiplied by 50 is \",(b*50))\n",
    "print(\"Value of c added by 60 is \",(c+60))"
   ]
  },
  {
   "cell_type": "markdown",
   "metadata": {},
   "source": [
    "#### 2)Create a String variable of 5 characters  and replace the 3rd character with G"
   ]
  },
  {
   "cell_type": "code",
   "execution_count": 7,
   "metadata": {},
   "outputs": [
    {
     "name": "stdout",
     "output_type": "stream",
     "text": [
      "abGaa\n"
     ]
    }
   ],
   "source": [
    "var=\"abbaa\"\n",
    "var_list=list(var)\n",
    "var_list[2]=\"G\"\n",
    "print(\"\".join(var_list))"
   ]
  },
  {
   "cell_type": "markdown",
   "metadata": {},
   "source": [
    "#### 3)Create two values (a,b) of int,float data type & convert the vise versa, Hint: convert a from int to float datatype & b from float to int datatype"
   ]
  },
  {
   "cell_type": "code",
   "execution_count": 10,
   "metadata": {},
   "outputs": [
    {
     "name": "stdout",
     "output_type": "stream",
     "text": [
      "a= 5  is of type  <class 'int'> . Its float conversion is  5.0\n",
      "b= 7.9  is of type  <class 'float'> . Its integer conversion is  7\n"
     ]
    }
   ],
   "source": [
    "a,b = 5,7.9          # a is int and b is float\n",
    "print(\"a=\",a,\" is of type \",type(a),\". Its float conversion is \",float(a))\n",
    "print(\"b=\",b,\" is of type \",type(b),\". Its integer conversion is \",int(b))"
   ]
  },
  {
   "cell_type": "code",
   "execution_count": null,
   "metadata": {},
   "outputs": [],
   "source": []
  }
 ],
 "metadata": {
  "kernelspec": {
   "display_name": "Python 3",
   "language": "python",
   "name": "python3"
  },
  "language_info": {
   "codemirror_mode": {
    "name": "ipython",
    "version": 3
   },
   "file_extension": ".py",
   "mimetype": "text/x-python",
   "name": "python",
   "nbconvert_exporter": "python",
   "pygments_lexer": "ipython3",
   "version": "3.8.3"
  }
 },
 "nbformat": 4,
 "nbformat_minor": 4
}
