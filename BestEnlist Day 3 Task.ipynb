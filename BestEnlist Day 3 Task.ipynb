{
 "cells": [
  {
   "cell_type": "markdown",
   "metadata": {},
   "source": [
    "# Exercise"
   ]
  },
  {
   "cell_type": "markdown",
   "metadata": {},
   "source": [
    "#### 1) Write a Python script to merge two Python dictionaries"
   ]
  },
  {
   "cell_type": "code",
   "execution_count": 2,
   "metadata": {},
   "outputs": [
    {
     "name": "stdout",
     "output_type": "stream",
     "text": [
      "{'JAN': 'January', 'FEB': 'February', 'NOV': 'November', 'DEC': 'December'}\n"
     ]
    }
   ],
   "source": [
    "d1={\"JAN\":\"January\",\"FEB\":\"February\"}\n",
    "d2={\"NOV\":\"November\",\"DEC\":\"December\"}\n",
    "d1.update(d2)                                 #merging two dictionaries\n",
    "print(d1)"
   ]
  },
  {
   "cell_type": "markdown",
   "metadata": {},
   "source": [
    "#### 2) Write a Python program to remove a key from a dictionary"
   ]
  },
  {
   "cell_type": "code",
   "execution_count": 5,
   "metadata": {},
   "outputs": [
    {
     "name": "stdout",
     "output_type": "stream",
     "text": [
      "Initial key-value pairs of dictionary:\n",
      "{'JAN': 'January', 'WED': 'Wednesday', 'FEB': 'February'}\n",
      "After removing 'WED' key:\n",
      "{'JAN': 'January', 'FEB': 'February'}\n"
     ]
    }
   ],
   "source": [
    "dict1={'JAN': 'January', 'WED' : 'Wednesday' , 'FEB': 'February'}\n",
    "print(\"Initial key-value pairs of dictionary:\")\n",
    "print(dict1)\n",
    "del dict1['WED']                             #deleting a key\n",
    "print(\"After removing 'WED' key:\")\n",
    "print(dict1)"
   ]
  },
  {
   "cell_type": "markdown",
   "metadata": {},
   "source": [
    "#### 3) Write a Python program to map two lists into a dictionary"
   ]
  },
  {
   "cell_type": "code",
   "execution_count": 6,
   "metadata": {},
   "outputs": [
    {
     "name": "stdout",
     "output_type": "stream",
     "text": [
      "{'apple': 'red', 'banana': 'yellow', 'strawberry': 'pink'}\n"
     ]
    }
   ],
   "source": [
    "keys = ['apple', 'banana', 'strawberry']\n",
    "values = ['red', 'yellow', 'pink']\n",
    "fruit_color = dict( zip(keys , values) )    # mapping two lists\n",
    "print(fruit_color)"
   ]
  },
  {
   "cell_type": "markdown",
   "metadata": {},
   "source": [
    "#### 4) Write a Python program to find the length of a set"
   ]
  },
  {
   "cell_type": "code",
   "execution_count": 7,
   "metadata": {},
   "outputs": [
    {
     "name": "stdout",
     "output_type": "stream",
     "text": [
      "{'pink', 'blue', 'red', 'black', 'white', 'yellow'}\n",
      "Length of the set is 6\n"
     ]
    }
   ],
   "source": [
    "color = {'red', 'yellow', 'pink', 'blue', 'white', 'black'}    # creating a set\n",
    "print(color)\n",
    "print(\"Length of the set is\", len(color))                       #printing the length of the set"
   ]
  },
  {
   "cell_type": "markdown",
   "metadata": {},
   "source": [
    "#### 5) Write a Python program to remove the intersection of a 2nd set from the 1st set"
   ]
  },
  {
   "cell_type": "code",
   "execution_count": 10,
   "metadata": {},
   "outputs": [
    {
     "name": "stdout",
     "output_type": "stream",
     "text": [
      "Set 1:  {40, 10, 50, 20, 60, 30}\n",
      "Set 2:  {100, 10, 50, 90, 30}\n",
      "After removing the intersection of a 2nd set from the 1st set:\n",
      "{40, 20, 60}\n"
     ]
    }
   ],
   "source": [
    "set1 = { 10, 20, 30, 40, 50, 60}\n",
    "print(\"Set 1: \",set1)\n",
    "set2 = { 10, 30, 50, 90, 100}\n",
    "print(\"Set 2: \",set2)\n",
    "print(\"After removing the intersection of a 2nd set from the 1st set:\")\n",
    "print(set1 - set2)"
   ]
  },
  {
   "cell_type": "code",
   "execution_count": null,
   "metadata": {},
   "outputs": [],
   "source": []
  }
 ],
 "metadata": {
  "kernelspec": {
   "display_name": "Python 3",
   "language": "python",
   "name": "python3"
  },
  "language_info": {
   "codemirror_mode": {
    "name": "ipython",
    "version": 3
   },
   "file_extension": ".py",
   "mimetype": "text/x-python",
   "name": "python",
   "nbconvert_exporter": "python",
   "pygments_lexer": "ipython3",
   "version": "3.8.3"
  }
 },
 "nbformat": 4,
 "nbformat_minor": 4
}
