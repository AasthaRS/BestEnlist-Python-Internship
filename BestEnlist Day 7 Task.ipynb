{
 "cells": [
  {
   "cell_type": "markdown",
   "metadata": {},
   "source": [
    "# Exercise"
   ]
  },
  {
   "cell_type": "markdown",
   "metadata": {},
   "source": [
    "#### 1) Create a python module with list and import the module in another .py file and change the value in list"
   ]
  },
  {
   "cell_type": "code",
   "execution_count": 14,
   "metadata": {},
   "outputs": [
    {
     "name": "stdout",
     "output_type": "stream",
     "text": [
      "List elements initially:  ['potato', 'tomato', 'pumpkin', 'okra']\n",
      "List elements after updation:  ['potato', 'jackfruit', 'pumpkin', 'okra']\n"
     ]
    }
   ],
   "source": [
    "import import_ipynb\n",
    "import veggie\n",
    "from veggie import veg\n",
    "list_ele = veg()\n",
    "print(\"List elements initially: \", list_ele)\n",
    "list_ele[1]=\"jackfruit\"\n",
    "print(\"List elements after updation: \",list_ele)"
   ]
  },
  {
   "cell_type": "markdown",
   "metadata": {},
   "source": [
    "#### 2) Install pandas package (try to import the package in a python file)"
   ]
  },
  {
   "cell_type": "code",
   "execution_count": 15,
   "metadata": {},
   "outputs": [
    {
     "name": "stdout",
     "output_type": "stream",
     "text": [
      "Requirement already satisfied: pandas in c:\\users\\hp\\anaconda3\\lib\\site-packages (1.0.5)\n",
      "Requirement already satisfied: numpy>=1.13.3 in c:\\users\\hp\\anaconda3\\lib\\site-packages (from pandas) (1.18.5)\n",
      "Requirement already satisfied: python-dateutil>=2.6.1 in c:\\users\\hp\\anaconda3\\lib\\site-packages (from pandas) (2.8.1)\n",
      "Requirement already satisfied: pytz>=2017.2 in c:\\users\\hp\\anaconda3\\lib\\site-packages (from pandas) (2020.1)\n",
      "Requirement already satisfied: six>=1.5 in c:\\users\\hp\\anaconda3\\lib\\site-packages (from python-dateutil>=2.6.1->pandas) (1.15.0)\n"
     ]
    }
   ],
   "source": [
    "! pip install pandas"
   ]
  },
  {
   "cell_type": "code",
   "execution_count": 16,
   "metadata": {},
   "outputs": [],
   "source": [
    "import pandas"
   ]
  },
  {
   "cell_type": "markdown",
   "metadata": {},
   "source": [
    "#### 3) Import a module that picks random number and write a program to fetch a random number from 1 to  100 on every run\n"
   ]
  },
  {
   "cell_type": "code",
   "execution_count": 18,
   "metadata": {},
   "outputs": [
    {
     "name": "stdout",
     "output_type": "stream",
     "text": [
      "Random number generated from 1 to 100 is:  57\n"
     ]
    }
   ],
   "source": [
    "import random\n",
    "print(\"Random number generated from 1 to 100 is: \",random.randint(1,100))"
   ]
  },
  {
   "cell_type": "markdown",
   "metadata": {},
   "source": [
    "#### 4) Import sys package and find the python path"
   ]
  },
  {
   "cell_type": "code",
   "execution_count": 20,
   "metadata": {},
   "outputs": [
    {
     "name": "stdout",
     "output_type": "stream",
     "text": [
      "F:\\Coursework\\Best Enlist\n",
      "C:\\Users\\hp\\anaconda3\\python38.zip\n",
      "C:\\Users\\hp\\anaconda3\\DLLs\n",
      "C:\\Users\\hp\\anaconda3\\lib\n",
      "C:\\Users\\hp\\anaconda3\n",
      "\n",
      "C:\\Users\\hp\\anaconda3\\lib\\site-packages\n",
      "C:\\Users\\hp\\anaconda3\\lib\\site-packages\\win32\n",
      "C:\\Users\\hp\\anaconda3\\lib\\site-packages\\win32\\lib\n",
      "C:\\Users\\hp\\anaconda3\\lib\\site-packages\\Pythonwin\n",
      "C:\\Users\\hp\\anaconda3\\lib\\site-packages\\IPython\\extensions\n",
      "C:\\Users\\hp\\.ipython\n"
     ]
    }
   ],
   "source": [
    "import sys\n",
    "for path_name in sys.path:\n",
    "    print(path_name)"
   ]
  },
  {
   "cell_type": "markdown",
   "metadata": {},
   "source": [
    "#### 5)Try to install a package and uninstall a package using pip"
   ]
  },
  {
   "cell_type": "code",
   "execution_count": null,
   "metadata": {},
   "outputs": [],
   "source": [
    "! pip uninstall pandas"
   ]
  },
  {
   "cell_type": "code",
   "execution_count": null,
   "metadata": {},
   "outputs": [],
   "source": []
  }
 ],
 "metadata": {
  "kernelspec": {
   "display_name": "Python 3",
   "language": "python",
   "name": "python3"
  },
  "language_info": {
   "codemirror_mode": {
    "name": "ipython",
    "version": 3
   },
   "file_extension": ".py",
   "mimetype": "text/x-python",
   "name": "python",
   "nbconvert_exporter": "python",
   "pygments_lexer": "ipython3",
   "version": "3.8.3"
  }
 },
 "nbformat": 4,
 "nbformat_minor": 4
}
