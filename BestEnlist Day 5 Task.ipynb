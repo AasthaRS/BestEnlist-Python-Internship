{
 "cells": [
  {
   "cell_type": "markdown",
   "metadata": {},
   "source": [
    "# Exercise"
   ]
  },
  {
   "cell_type": "markdown",
   "metadata": {},
   "source": [
    "#### 1) Create a function getting two integer inputs from user. & print the following:\n",
    "\n",
    "####        Addition of two numbers is +value\n",
    "####        Subtraction of two numbers is +value\n",
    "####        Division of two numbers is +value\n",
    "####        Multiplication of two numbers is +value\n",
    "\n",
    "#### Here the value represents math function associated"
   ]
  },
  {
   "cell_type": "code",
   "execution_count": 1,
   "metadata": {},
   "outputs": [
    {
     "name": "stdout",
     "output_type": "stream",
     "text": [
      "Enter first number: 5\n",
      "Enter second number: 2\n",
      "Addition is:  7\n"
     ]
    }
   ],
   "source": [
    "# Addition of two numbers\n",
    "def add(num1, num2):\n",
    "    return num1+num2\n",
    "n1 = int(input(\"Enter first number: \"))\n",
    "n2 = int(input(\"Enter second number: \"))\n",
    "print(\"Addition is: \",add(n1,n2))"
   ]
  },
  {
   "cell_type": "code",
   "execution_count": 2,
   "metadata": {},
   "outputs": [
    {
     "name": "stdout",
     "output_type": "stream",
     "text": [
      "Enter first number: 7\n",
      "Enter second number: 8\n",
      "Subtraction is:  -1\n"
     ]
    }
   ],
   "source": [
    "# Subtraction of two numbers\n",
    "def sub(num1, num2):\n",
    "    return num1-num2\n",
    "n1 = int(input(\"Enter first number: \"))\n",
    "n2 = int(input(\"Enter second number: \"))\n",
    "print(\"Subtraction is: \",sub(n1,n2))"
   ]
  },
  {
   "cell_type": "code",
   "execution_count": 4,
   "metadata": {},
   "outputs": [
    {
     "name": "stdout",
     "output_type": "stream",
     "text": [
      "Enter first number: 9\n",
      "Enter second number: 3\n",
      "Division is:  3.0\n"
     ]
    }
   ],
   "source": [
    "# Division of two numbers\n",
    "def div(num1, num2):\n",
    "    return num1/num2\n",
    "n1 = int(input(\"Enter first number: \"))\n",
    "n2 = int(input(\"Enter second number: \"))\n",
    "print(\"Division is: \",div(n1,n2))"
   ]
  },
  {
   "cell_type": "code",
   "execution_count": 5,
   "metadata": {},
   "outputs": [
    {
     "name": "stdout",
     "output_type": "stream",
     "text": [
      "Enter first number: 5\n",
      "Enter second number: 8\n",
      "Multiplication is:  40\n"
     ]
    }
   ],
   "source": [
    "# Multiplication of two numbers\n",
    "def multi(num1, num2):\n",
    "    return num1*num2\n",
    "n1 = int(input(\"Enter first number: \"))\n",
    "n2 = int(input(\"Enter second number: \"))\n",
    "print(\"Multiplication is: \",multi(n1,n2))"
   ]
  },
  {
   "cell_type": "markdown",
   "metadata": {},
   "source": [
    "#### 2. Create a function covid( ) & it should accept patient name, and body temperature, by default the body temperature should be 98 degree\n"
   ]
  },
  {
   "cell_type": "code",
   "execution_count": 6,
   "metadata": {},
   "outputs": [
    {
     "name": "stdout",
     "output_type": "stream",
     "text": [
      "Ravi  has body temperature of  100  degrees.\n",
      "Kiran  has body temperature of  98  degrees.\n",
      "Suman  has body temperature of  99  degrees.\n"
     ]
    }
   ],
   "source": [
    "def covid(patient_name, body_temp = 98):\n",
    "    print(patient_name,\" has body temperature of \",body_temp,\" degrees.\")\n",
    "covid(\"Ravi\",100)\n",
    "covid(\"Kiran\")\n",
    "covid(\"Suman\",99)"
   ]
  }
 ],
 "metadata": {
  "kernelspec": {
   "display_name": "Python 3",
   "language": "python",
   "name": "python3"
  },
  "language_info": {
   "codemirror_mode": {
    "name": "ipython",
    "version": 3
   },
   "file_extension": ".py",
   "mimetype": "text/x-python",
   "name": "python",
   "nbconvert_exporter": "python",
   "pygments_lexer": "ipython3",
   "version": "3.8.3"
  }
 },
 "nbformat": 4,
 "nbformat_minor": 4
}
