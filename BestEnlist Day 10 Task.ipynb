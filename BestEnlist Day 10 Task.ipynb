{
 "cells": [
  {
   "cell_type": "markdown",
   "metadata": {},
   "source": [
    "# Exercise"
   ]
  },
  {
   "cell_type": "markdown",
   "metadata": {},
   "source": [
    "#### 1) Write a Python program for all the cases which can check a string contains only a certain set of characters (in this case a-z, A-Z and 0-9)"
   ]
  },
  {
   "cell_type": "code",
   "execution_count": 3,
   "metadata": {},
   "outputs": [
    {
     "name": "stdout",
     "output_type": "stream",
     "text": [
      "Give the input: Aastha123\n",
      "True\n",
      "Give another input: @aastha*\n",
      "False\n"
     ]
    }
   ],
   "source": [
    "import re\n",
    "def is_allowed_specific_char(string):\n",
    "    charRe = re.compile(r'[^a-zA-Z0-9.]')\n",
    "    string = charRe.search(string)\n",
    "    return not bool(string)\n",
    "\n",
    "print(is_allowed_specific_char(input(\"Give the input: \")))\n",
    "print(is_allowed_specific_char(input(\"Give another input: \")))"
   ]
  },
  {
   "cell_type": "markdown",
   "metadata": {},
   "source": [
    "#### 2) Write a Python program that matches a word containing 'ab'."
   ]
  },
  {
   "cell_type": "code",
   "execution_count": 5,
   "metadata": {},
   "outputs": [
    {
     "name": "stdout",
     "output_type": "stream",
     "text": [
      "Give the input: Here are some lab tutorials!\n",
      "Found a match!\n",
      "Give another input: Hey there!\n",
      "Not matched!\n"
     ]
    }
   ],
   "source": [
    "import re\n",
    "def text_match(text):\n",
    "        patterns = '\\w*ab.\\w*'\n",
    "        if re.search(patterns,  text):\n",
    "                return 'Found a match!'\n",
    "        else:\n",
    "                return('Not matched!')\n",
    "\n",
    "print(text_match(input(\"Give the input: \")))\n",
    "print(text_match(input(\"Give another input: \")))"
   ]
  },
  {
   "cell_type": "markdown",
   "metadata": {},
   "source": [
    "#### 3) Write a Python program to check for a number at the end of a word/sentence."
   ]
  },
  {
   "cell_type": "code",
   "execution_count": 7,
   "metadata": {},
   "outputs": [
    {
     "name": "stdout",
     "output_type": "stream",
     "text": [
      "Give the input: batch2020\n",
      "True\n",
      "Give another input: graduate\n",
      "False\n"
     ]
    }
   ],
   "source": [
    "import re\n",
    "\n",
    "regex = re.compile(r'[0-9]$')\n",
    "print(bool(regex.search(input(\"Give the input: \"))))\n",
    "print(bool(regex.search(input(\"Give another input: \"))))"
   ]
  },
  {
   "cell_type": "markdown",
   "metadata": {},
   "source": [
    "#### 4) Write a Python program to search the numbers (0-9) of length between 1 to 3 in a given string."
   ]
  },
  {
   "cell_type": "code",
   "execution_count": 9,
   "metadata": {},
   "outputs": [
    {
     "name": "stdout",
     "output_type": "stream",
     "text": [
      "Important pages are 34, 98, 183, 234 and 976.\n",
      "Number of length 1 to 3\n",
      "34\n",
      "98\n",
      "183\n",
      "234\n",
      "976\n"
     ]
    }
   ],
   "source": [
    "import re\n",
    "results = re.finditer(r\"([0-9]{1,3})\", input())\n",
    "print(\"Number of length 1 to 3\")\n",
    "for n in results:\n",
    "     print(n.group(0))"
   ]
  },
  {
   "cell_type": "markdown",
   "metadata": {},
   "source": [
    "#### 5) Write a Python program to match a string that contains only uppercase letters"
   ]
  },
  {
   "cell_type": "code",
   "execution_count": 11,
   "metadata": {},
   "outputs": [
    {
     "name": "stdout",
     "output_type": "stream",
     "text": [
      "Give the input: Hello\n",
      "Not matched!\n",
      "Give another input: HELLO\n",
      "Found a match!\n"
     ]
    }
   ],
   "source": [
    "import re\n",
    "def text_match(text):\n",
    "        patterns = '^[A-Z]*$'\n",
    "        if re.search(patterns,  text):\n",
    "                return 'Found a match!'\n",
    "        else:\n",
    "                return('Not matched!')\n",
    "\n",
    "print(text_match(input(\"Give the input: \")))\n",
    "print(text_match(input(\"Give another input: \")))"
   ]
  },
  {
   "cell_type": "code",
   "execution_count": null,
   "metadata": {},
   "outputs": [],
   "source": []
  }
 ],
 "metadata": {
  "kernelspec": {
   "display_name": "Python 3",
   "language": "python",
   "name": "python3"
  },
  "language_info": {
   "codemirror_mode": {
    "name": "ipython",
    "version": 3
   },
   "file_extension": ".py",
   "mimetype": "text/x-python",
   "name": "python",
   "nbconvert_exporter": "python",
   "pygments_lexer": "ipython3",
   "version": "3.8.3"
  }
 },
 "nbformat": 4,
 "nbformat_minor": 4
}
